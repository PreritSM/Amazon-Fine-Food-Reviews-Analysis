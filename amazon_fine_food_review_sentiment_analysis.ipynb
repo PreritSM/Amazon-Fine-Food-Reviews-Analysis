{
  "cells": [
    {
      "cell_type": "markdown",
      "metadata": {
        "_cell_guid": "dd1ad847-c6ae-44a4-bbda-ea78d0769190",
        "_uuid": "f458204a207f4d96fe334270ee778e079a1014a2",
        "id": "kKcigOkXjXRM"
      },
      "source": [
        "\n",
        "\n",
        "# Amazon fine food review - Sentiment analysis\n",
        " "
      ]
    },
    {
      "cell_type": "markdown",
      "metadata": {
        "_cell_guid": "b875d60b-7d37-4845-bc56-1527988765c6",
        "_uuid": "d5fc32bfdd6b8f35291ddc358df228a064cc1c16",
        "id": "uq7Go_SPjXRU"
      },
      "source": [
        "## Data preparation"
      ]
    },
    {
      "cell_type": "markdown",
      "metadata": {
        "_cell_guid": "d1c22d63-35ce-4a7d-b15b-345e6a3e11f4",
        "_uuid": "22b3e2fd24784e7097d12c87f5817bf9bbc6f41c",
        "id": "Kk7yScKDjXRV"
      },
      "source": [
        "Let's load some library needed throughout the analysis:"
      ]
    },
    {
      "cell_type": "code",
      "execution_count": 1,
      "metadata": {
        "_cell_guid": "a77dbc40-11a9-42b1-8cbe-5e47757f0ee7",
        "_uuid": "12e6c6dedd58c81029e7ac240d8dbc9c4375e7e6",
        "execution": {
          "iopub.execute_input": "2021-05-21T01:56:54.223373Z",
          "iopub.status.busy": "2021-05-21T01:56:54.223044Z",
          "iopub.status.idle": "2021-05-21T01:56:54.231336Z",
          "shell.execute_reply": "2021-05-21T01:56:54.229773Z",
          "shell.execute_reply.started": "2021-05-21T01:56:54.223309Z"
        },
        "colab": {
          "base_uri": "https://localhost:8080/"
        },
        "id": "yz0cZZl0jXRW",
        "outputId": "eaa3b04e-ac73-4515-856c-6374e6c1082d"
      },
      "outputs": [
        {
          "output_type": "stream",
          "name": "stdout",
          "text": [
            "[nltk_data] Downloading package stopwords to /root/nltk_data...\n",
            "[nltk_data]   Unzipping corpora/stopwords.zip.\n",
            "[nltk_data] Downloading package punkt to /root/nltk_data...\n",
            "[nltk_data]   Unzipping tokenizers/punkt.zip.\n",
            "[nltk_data] Downloading package wordnet to /root/nltk_data...\n",
            "[nltk_data]   Unzipping corpora/wordnet.zip.\n",
            "[nltk_data] Downloading package averaged_perceptron_tagger to\n",
            "[nltk_data]     /root/nltk_data...\n",
            "[nltk_data]   Unzipping taggers/averaged_perceptron_tagger.zip.\n"
          ]
        },
        {
          "output_type": "execute_result",
          "data": {
            "text/plain": [
              "True"
            ]
          },
          "metadata": {},
          "execution_count": 1
        }
      ],
      "source": [
        "import pandas as pd\n",
        "import numpy as np\n",
        "import matplotlib.pyplot as plt\n",
        "import seaborn as sns\n",
        "import os\n",
        "from sklearn.feature_extraction.text import CountVectorizer\n",
        "from sklearn.feature_extraction.text import TfidfVectorizer\n",
        "from sklearn.linear_model import LogisticRegression\n",
        "from sklearn.model_selection import train_test_split\n",
        "from sklearn.dummy import DummyClassifier\n",
        "from string import punctuation\n",
        "from sklearn import svm\n",
        "from nltk.corpus import stopwords\n",
        "from nltk.stem import WordNetLemmatizer\n",
        "import nltk\n",
        "from nltk import ngrams\n",
        "from itertools import chain\n",
        "from wordcloud import WordCloud\n",
        "\n",
        "nltk.download('stopwords')\n",
        "nltk.download('punkt')\n",
        "nltk.download('wordnet')\n",
        "nltk.download('averaged_perceptron_tagger')"
      ]
    },
    {
      "cell_type": "markdown",
      "metadata": {
        "_cell_guid": "0e97c861-5ea5-47bc-8b0a-e2fad750b51a",
        "_uuid": "34654f16cb6e425ed285dca51aea0f9a026c7c14",
        "execution": {
          "iopub.execute_input": "2021-05-21T01:56:20.052170Z",
          "iopub.status.busy": "2021-05-21T01:56:20.051457Z",
          "iopub.status.idle": "2021-05-21T01:56:20.182554Z",
          "shell.execute_reply": "2021-05-21T01:56:20.065639Z",
          "shell.execute_reply.started": "2021-05-21T01:56:20.051857Z"
        },
        "id": "wDOmtzqejXRa"
      },
      "source": [
        "Now we load in the dataset and add some columns for upvote metrics:"
      ]
    },
    {
      "cell_type": "code",
      "execution_count": 3,
      "metadata": {
        "_cell_guid": "9e9eb800-a0b7-4026-944e-a0fbce39a959",
        "_uuid": "f176f9a43baa485feca92e643b24abbea7094a4a",
        "execution": {
          "iopub.execute_input": "2021-05-21T01:56:54.238579Z",
          "iopub.status.busy": "2021-05-21T01:56:54.238237Z",
          "iopub.status.idle": "2021-05-21T01:57:01.742423Z",
          "shell.execute_reply": "2021-05-21T01:57:01.741355Z",
          "shell.execute_reply.started": "2021-05-21T01:56:54.238516Z"
        },
        "colab": {
          "base_uri": "https://localhost:8080/",
          "height": 756
        },
        "id": "RIoGKECijXRb",
        "outputId": "31a802ed-9d60-40c1-a913-f11b066e8d6e"
      },
      "outputs": [
        {
          "output_type": "execute_result",
          "data": {
            "text/html": [
              "\n",
              "  <div id=\"df-9fbb0ef8-a07e-4401-ad70-34d0539619b5\">\n",
              "    <div class=\"colab-df-container\">\n",
              "      <div>\n",
              "<style scoped>\n",
              "    .dataframe tbody tr th:only-of-type {\n",
              "        vertical-align: middle;\n",
              "    }\n",
              "\n",
              "    .dataframe tbody tr th {\n",
              "        vertical-align: top;\n",
              "    }\n",
              "\n",
              "    .dataframe thead th {\n",
              "        text-align: right;\n",
              "    }\n",
              "</style>\n",
              "<table border=\"1\" class=\"dataframe\">\n",
              "  <thead>\n",
              "    <tr style=\"text-align: right;\">\n",
              "      <th></th>\n",
              "      <th>Id</th>\n",
              "      <th>ProductId</th>\n",
              "      <th>UserId</th>\n",
              "      <th>ProfileName</th>\n",
              "      <th>HelpfulnessNumerator</th>\n",
              "      <th>HelpfulnessDenominator</th>\n",
              "      <th>Score</th>\n",
              "      <th>Time</th>\n",
              "      <th>Summary</th>\n",
              "      <th>Text</th>\n",
              "      <th>Helpful %</th>\n",
              "      <th>% Upvote</th>\n",
              "    </tr>\n",
              "  </thead>\n",
              "  <tbody>\n",
              "    <tr>\n",
              "      <th>0</th>\n",
              "      <td>1</td>\n",
              "      <td>B001E4KFG0</td>\n",
              "      <td>A3SGXH7AUHU8GW</td>\n",
              "      <td>delmartian</td>\n",
              "      <td>1</td>\n",
              "      <td>1</td>\n",
              "      <td>5</td>\n",
              "      <td>1303862400</td>\n",
              "      <td>Good Quality Dog Food</td>\n",
              "      <td>I have bought several of the Vitality canned d...</td>\n",
              "      <td>1.0</td>\n",
              "      <td>80-100%</td>\n",
              "    </tr>\n",
              "    <tr>\n",
              "      <th>1</th>\n",
              "      <td>2</td>\n",
              "      <td>B00813GRG4</td>\n",
              "      <td>A1D87F6ZCVE5NK</td>\n",
              "      <td>dll pa</td>\n",
              "      <td>0</td>\n",
              "      <td>0</td>\n",
              "      <td>1</td>\n",
              "      <td>1346976000</td>\n",
              "      <td>Not as Advertised</td>\n",
              "      <td>Product arrived labeled as Jumbo Salted Peanut...</td>\n",
              "      <td>-1.0</td>\n",
              "      <td>Empty</td>\n",
              "    </tr>\n",
              "    <tr>\n",
              "      <th>2</th>\n",
              "      <td>3</td>\n",
              "      <td>B000LQOCH0</td>\n",
              "      <td>ABXLMWJIXXAIN</td>\n",
              "      <td>Natalia Corres \"Natalia Corres\"</td>\n",
              "      <td>1</td>\n",
              "      <td>1</td>\n",
              "      <td>4</td>\n",
              "      <td>1219017600</td>\n",
              "      <td>\"Delight\" says it all</td>\n",
              "      <td>This is a confection that has been around a fe...</td>\n",
              "      <td>1.0</td>\n",
              "      <td>80-100%</td>\n",
              "    </tr>\n",
              "    <tr>\n",
              "      <th>3</th>\n",
              "      <td>4</td>\n",
              "      <td>B000UA0QIQ</td>\n",
              "      <td>A395BORC6FGVXV</td>\n",
              "      <td>Karl</td>\n",
              "      <td>3</td>\n",
              "      <td>3</td>\n",
              "      <td>2</td>\n",
              "      <td>1307923200</td>\n",
              "      <td>Cough Medicine</td>\n",
              "      <td>If you are looking for the secret ingredient i...</td>\n",
              "      <td>1.0</td>\n",
              "      <td>80-100%</td>\n",
              "    </tr>\n",
              "    <tr>\n",
              "      <th>4</th>\n",
              "      <td>5</td>\n",
              "      <td>B006K2ZZ7K</td>\n",
              "      <td>A1UQRSCLF8GW1T</td>\n",
              "      <td>Michael D. Bigham \"M. Wassir\"</td>\n",
              "      <td>0</td>\n",
              "      <td>0</td>\n",
              "      <td>5</td>\n",
              "      <td>1350777600</td>\n",
              "      <td>Great taffy</td>\n",
              "      <td>Great taffy at a great price.  There was a wid...</td>\n",
              "      <td>-1.0</td>\n",
              "      <td>Empty</td>\n",
              "    </tr>\n",
              "  </tbody>\n",
              "</table>\n",
              "</div>\n",
              "      <button class=\"colab-df-convert\" onclick=\"convertToInteractive('df-9fbb0ef8-a07e-4401-ad70-34d0539619b5')\"\n",
              "              title=\"Convert this dataframe to an interactive table.\"\n",
              "              style=\"display:none;\">\n",
              "        \n",
              "  <svg xmlns=\"http://www.w3.org/2000/svg\" height=\"24px\"viewBox=\"0 0 24 24\"\n",
              "       width=\"24px\">\n",
              "    <path d=\"M0 0h24v24H0V0z\" fill=\"none\"/>\n",
              "    <path d=\"M18.56 5.44l.94 2.06.94-2.06 2.06-.94-2.06-.94-.94-2.06-.94 2.06-2.06.94zm-11 1L8.5 8.5l.94-2.06 2.06-.94-2.06-.94L8.5 2.5l-.94 2.06-2.06.94zm10 10l.94 2.06.94-2.06 2.06-.94-2.06-.94-.94-2.06-.94 2.06-2.06.94z\"/><path d=\"M17.41 7.96l-1.37-1.37c-.4-.4-.92-.59-1.43-.59-.52 0-1.04.2-1.43.59L10.3 9.45l-7.72 7.72c-.78.78-.78 2.05 0 2.83L4 21.41c.39.39.9.59 1.41.59.51 0 1.02-.2 1.41-.59l7.78-7.78 2.81-2.81c.8-.78.8-2.07 0-2.86zM5.41 20L4 18.59l7.72-7.72 1.47 1.35L5.41 20z\"/>\n",
              "  </svg>\n",
              "      </button>\n",
              "      \n",
              "  <style>\n",
              "    .colab-df-container {\n",
              "      display:flex;\n",
              "      flex-wrap:wrap;\n",
              "      gap: 12px;\n",
              "    }\n",
              "\n",
              "    .colab-df-convert {\n",
              "      background-color: #E8F0FE;\n",
              "      border: none;\n",
              "      border-radius: 50%;\n",
              "      cursor: pointer;\n",
              "      display: none;\n",
              "      fill: #1967D2;\n",
              "      height: 32px;\n",
              "      padding: 0 0 0 0;\n",
              "      width: 32px;\n",
              "    }\n",
              "\n",
              "    .colab-df-convert:hover {\n",
              "      background-color: #E2EBFA;\n",
              "      box-shadow: 0px 1px 2px rgba(60, 64, 67, 0.3), 0px 1px 3px 1px rgba(60, 64, 67, 0.15);\n",
              "      fill: #174EA6;\n",
              "    }\n",
              "\n",
              "    [theme=dark] .colab-df-convert {\n",
              "      background-color: #3B4455;\n",
              "      fill: #D2E3FC;\n",
              "    }\n",
              "\n",
              "    [theme=dark] .colab-df-convert:hover {\n",
              "      background-color: #434B5C;\n",
              "      box-shadow: 0px 1px 3px 1px rgba(0, 0, 0, 0.15);\n",
              "      filter: drop-shadow(0px 1px 2px rgba(0, 0, 0, 0.3));\n",
              "      fill: #FFFFFF;\n",
              "    }\n",
              "  </style>\n",
              "\n",
              "      <script>\n",
              "        const buttonEl =\n",
              "          document.querySelector('#df-9fbb0ef8-a07e-4401-ad70-34d0539619b5 button.colab-df-convert');\n",
              "        buttonEl.style.display =\n",
              "          google.colab.kernel.accessAllowed ? 'block' : 'none';\n",
              "\n",
              "        async function convertToInteractive(key) {\n",
              "          const element = document.querySelector('#df-9fbb0ef8-a07e-4401-ad70-34d0539619b5');\n",
              "          const dataTable =\n",
              "            await google.colab.kernel.invokeFunction('convertToInteractive',\n",
              "                                                     [key], {});\n",
              "          if (!dataTable) return;\n",
              "\n",
              "          const docLinkHtml = 'Like what you see? Visit the ' +\n",
              "            '<a target=\"_blank\" href=https://colab.research.google.com/notebooks/data_table.ipynb>data table notebook</a>'\n",
              "            + ' to learn more about interactive tables.';\n",
              "          element.innerHTML = '';\n",
              "          dataTable['output_type'] = 'display_data';\n",
              "          await google.colab.output.renderOutput(dataTable, element);\n",
              "          const docLink = document.createElement('div');\n",
              "          docLink.innerHTML = docLinkHtml;\n",
              "          element.appendChild(docLink);\n",
              "        }\n",
              "      </script>\n",
              "    </div>\n",
              "  </div>\n",
              "  "
            ],
            "text/plain": [
              "   Id   ProductId          UserId                      ProfileName  \\\n",
              "0   1  B001E4KFG0  A3SGXH7AUHU8GW                       delmartian   \n",
              "1   2  B00813GRG4  A1D87F6ZCVE5NK                           dll pa   \n",
              "2   3  B000LQOCH0   ABXLMWJIXXAIN  Natalia Corres \"Natalia Corres\"   \n",
              "3   4  B000UA0QIQ  A395BORC6FGVXV                             Karl   \n",
              "4   5  B006K2ZZ7K  A1UQRSCLF8GW1T    Michael D. Bigham \"M. Wassir\"   \n",
              "\n",
              "   HelpfulnessNumerator  HelpfulnessDenominator  Score        Time  \\\n",
              "0                     1                       1      5  1303862400   \n",
              "1                     0                       0      1  1346976000   \n",
              "2                     1                       1      4  1219017600   \n",
              "3                     3                       3      2  1307923200   \n",
              "4                     0                       0      5  1350777600   \n",
              "\n",
              "                 Summary                                               Text  \\\n",
              "0  Good Quality Dog Food  I have bought several of the Vitality canned d...   \n",
              "1      Not as Advertised  Product arrived labeled as Jumbo Salted Peanut...   \n",
              "2  \"Delight\" says it all  This is a confection that has been around a fe...   \n",
              "3         Cough Medicine  If you are looking for the secret ingredient i...   \n",
              "4            Great taffy  Great taffy at a great price.  There was a wid...   \n",
              "\n",
              "   Helpful % % Upvote  \n",
              "0        1.0  80-100%  \n",
              "1       -1.0    Empty  \n",
              "2        1.0  80-100%  \n",
              "3        1.0  80-100%  \n",
              "4       -1.0    Empty  "
            ]
          },
          "metadata": {},
          "execution_count": 3
        }
      ],
      "source": [
        "odf = pd.read_csv('/content/drive/MyDrive/Datasets/Reviews.csv')\n",
        "odf['Helpful %'] = np.where(odf['HelpfulnessDenominator'] > 0, odf['HelpfulnessNumerator'] / odf['HelpfulnessDenominator'], -1)\n",
        "odf['% Upvote'] = pd.cut(odf['Helpful %'], bins = [-1, 0, 0.2, 0.4, 0.6, 0.8, 1.0], labels = ['Empty', '0-20%', '20-40%', '40-60%', '60-80%', '80-100%'], include_lowest = True)\n",
        "odf.head()"
      ]
    },
    {
      "cell_type": "code",
      "execution_count": 4,
      "metadata": {
        "_cell_guid": "20e9de30-7e63-4d77-8f31-4df4080bfadf",
        "_uuid": "382316d23c2d4856431204abcdbcefbc6844764d",
        "execution": {
          "iopub.execute_input": "2021-05-21T01:57:01.746280Z",
          "iopub.status.busy": "2021-05-21T01:57:01.746008Z",
          "iopub.status.idle": "2021-05-21T01:57:02.546849Z",
          "shell.execute_reply": "2021-05-21T01:57:02.545858Z",
          "shell.execute_reply.started": "2021-05-21T01:57:01.746219Z"
        },
        "colab": {
          "base_uri": "https://localhost:8080/",
          "height": 638
        },
        "id": "PHcfSq56jXRc",
        "outputId": "2a04ad66-c1c8-4719-f5b8-061c1a9661ea"
      },
      "outputs": [
        {
          "output_type": "execute_result",
          "data": {
            "text/plain": [
              "Text(0.5, 1.0, 'How helpful users find among user scores')"
            ]
          },
          "metadata": {},
          "execution_count": 4
        },
        {
          "output_type": "display_data",
          "data": {
            "image/png": "[encoded data removed]",
            "text/plain": [
              "<Figure size 1080x720 with 2 Axes>"
            ]
          },
          "metadata": {
            "needs_background": "light"
          }
        }
      ],
      "source": [
        "df_s = odf.groupby(['Score', '% Upvote']).agg({'Id': 'count'})\n",
        "df_s = df_s.unstack()\n",
        "df_s.columns = df_s.columns.get_level_values(1)\n",
        "fig = plt.figure(figsize=(15,10))\n",
        "\n",
        "sns.heatmap(df_s[df_s.columns[::-1]].T, cmap = 'YlGnBu', linewidths=.5, annot = True, fmt = 'd', cbar_kws={'label': '# reviews'})\n",
        "plt.yticks(rotation=0)\n",
        "plt.title('How helpful users find among user scores')"
      ]
    },
    {
      "cell_type": "markdown",
      "metadata": {
        "_cell_guid": "7ed3c36d-c141-43c0-bacb-da3019895a3c",
        "_uuid": "c99b3bd4843231d6e2c0cfb5f499e229a7274b72",
        "id": "lvjk0FbCjXRe"
      },
      "source": [
        "Key message from above:\n",
        "* Reviews are skewed towards positive\n",
        "* More than half of the reviews are with zero votes\n",
        "* Many people agree with score 5 reviews"
      ]
    },
    {
      "cell_type": "markdown",
      "metadata": {
        "_cell_guid": "6d540e4d-4d44-4d12-8ecb-5c96b19e16f5",
        "_uuid": "912f4b1a7239a19099f77559e91965928eb551d9",
        "id": "ZK0ohCtojXRf"
      },
      "source": [
        "Then we get rid of score 3 reviews (neutral), and separate the remaining reviews into binary class (1 = positive, 0 = negative):"
      ]
    },
    {
      "cell_type": "code",
      "execution_count": 5,
      "metadata": {
        "_cell_guid": "d535a0cd-0ec3-4fd9-8cbd-2aeba7072153",
        "_uuid": "75303d78f841c0a0bc26259b82889ee80294e777",
        "execution": {
          "iopub.execute_input": "2021-05-21T01:57:02.550959Z",
          "iopub.status.busy": "2021-05-21T01:57:02.550644Z",
          "iopub.status.idle": "2021-05-21T01:57:02.648925Z",
          "shell.execute_reply": "2021-05-21T01:57:02.647736Z",
          "shell.execute_reply.started": "2021-05-21T01:57:02.550866Z"
        },
        "id": "8iasbwYTjXRg"
      },
      "outputs": [],
      "source": [
        "df = odf[odf['Score'] != 3]\n",
        "X = df['Text']\n",
        "y_dict = {1:0, 2:0, 4:1, 5:1}\n",
        "y = df['Score'].map(y_dict)"
      ]
    },
    {
      "cell_type": "markdown",
      "metadata": {
        "_cell_guid": "c42b5b60-7746-41dc-9662-19bc690b9121",
        "_uuid": "a9162a034912652c3a3e471ad8a29fdb24e3c89f",
        "id": "AXMeC9EFjXRh"
      },
      "source": [
        "## Score prediction\n",
        "### Logistic regression model on word count"
      ]
    },
    {
      "cell_type": "code",
      "execution_count": 6,
      "metadata": {
        "_cell_guid": "577d8073-3b61-4d81-88ed-839742b9e799",
        "_uuid": "7a4ac414ac566bae7bb3e5550da895c7f07e7569",
        "execution": {
          "iopub.execute_input": "2021-05-21T01:57:02.653000Z",
          "iopub.status.busy": "2021-05-21T01:57:02.652663Z",
          "iopub.status.idle": "2021-05-21T02:00:27.821804Z",
          "shell.execute_reply": "2021-05-21T02:00:27.819680Z",
          "shell.execute_reply.started": "2021-05-21T01:57:02.652911Z"
        },
        "colab": {
          "base_uri": "https://localhost:8080/"
        },
        "id": "yLMuQcb_jXRi",
        "outputId": "2c33aa4d-67b1-4236-922c-c4bb8a07af02"
      },
      "outputs": [
        {
          "output_type": "stream",
          "name": "stdout",
          "text": [
            "# features: 114969\n",
            "# train records: 394360\n",
            "# test records: 131454\n"
          ]
        },
        {
          "output_type": "stream",
          "name": "stderr",
          "text": [
            "/usr/local/lib/python3.7/dist-packages/sklearn/linear_model/_logistic.py:818: ConvergenceWarning: lbfgs failed to converge (status=1):\n",
            "STOP: TOTAL NO. of ITERATIONS REACHED LIMIT.\n",
            "\n",
            "Increase the number of iterations (max_iter) or scale the data as shown in:\n",
            "    https://scikit-learn.org/stable/modules/preprocessing.html\n",
            "Please also refer to the documentation for alternative solver options:\n",
            "    https://scikit-learn.org/stable/modules/linear_model.html#logistic-regression\n",
            "  extra_warning_msg=_LOGISTIC_SOLVER_CONVERGENCE_MSG,\n",
            "/usr/local/lib/python3.7/dist-packages/sklearn/utils/deprecation.py:87: FutureWarning: Function get_feature_names is deprecated; get_feature_names is deprecated in 1.0 and will be removed in 1.2. Please use get_feature_names_out instead.\n",
            "  warnings.warn(msg, category=FutureWarning)\n"
          ]
        },
        {
          "output_type": "stream",
          "name": "stdout",
          "text": [
            "Model Accuracy: 0.9358102454090405\n",
            "\n",
            "-Top 20 positive-\n",
            "       Word  Coefficient\n",
            " pleasantly     4.232730\n",
            "   downside     3.125648\n",
            "  addicting     2.958208\n",
            "   drawback     2.669476\n",
            "  skeptical     2.510482\n",
            "     resist     2.379250\n",
            " economical     2.265155\n",
            "       whim     2.235738\n",
            "   soothing     2.218361\n",
            "    easiest     2.206106\n",
            "     hooked     2.173942\n",
            "    welcome     2.083908\n",
            "  delighted     2.078764\n",
            "      meets     1.976063\n",
            "        yay     1.975571\n",
            "  excellent     1.970803\n",
            "wonderfully     1.970568\n",
            "    worries     1.944912\n",
            "exceptional     1.941874\n",
            "     delish     1.933417\n",
            "\n",
            "-Top 20 negative-\n",
            "         Word  Coefficient\n",
            "        ruins    -2.305289\n",
            "       lacked    -2.326984\n",
            "        blech    -2.333991\n",
            "   unfinished    -2.349367\n",
            "   unbearable    -2.355606\n",
            "          ick    -2.418676\n",
            "   overpowers    -2.488406\n",
            "  unappealing    -2.531167\n",
            "  disapointed    -2.557415\n",
            "      defeats    -2.613754\n",
            "   returnable    -2.683771\n",
            "     mediocre    -2.735403\n",
            "       ripoff    -2.843023\n",
            "disappointing    -2.945808\n",
            "  embarrassed    -2.958636\n",
            "        worst    -3.014099\n",
            "    cancelled    -3.121148\n",
            " unacceptable    -3.378199\n",
            "    deceptive    -3.520591\n",
            "  undrinkable    -3.659806\n"
          ]
        }
      ],
      "source": [
        "c = CountVectorizer(stop_words = 'english')\n",
        "\n",
        "def text_fit(X, y, model,clf_model,coef_show=1):\n",
        "    \n",
        "    X_c = model.fit_transform(X)\n",
        "    print('# features: {}'.format(X_c.shape[1]))\n",
        "    X_train, X_test, y_train, y_test = train_test_split(X_c, y, random_state=0)\n",
        "    print('# train records: {}'.format(X_train.shape[0]))\n",
        "    print('# test records: {}'.format(X_test.shape[0]))\n",
        "    clf = clf_model.fit(X_train, y_train)\n",
        "    acc = clf.score(X_test, y_test)\n",
        "    print ('Model Accuracy: {}'.format(acc))\n",
        "    \n",
        "    if coef_show == 1: \n",
        "        w = model.get_feature_names()\n",
        "        coef = clf.coef_.tolist()[0]\n",
        "        coeff_df = pd.DataFrame({'Word' : w, 'Coefficient' : coef})\n",
        "        coeff_df = coeff_df.sort_values(['Coefficient', 'Word'], ascending=[0, 1])\n",
        "        print('')\n",
        "        print('-Top 20 positive-')\n",
        "        print(coeff_df.head(20).to_string(index=False))\n",
        "        print('')\n",
        "        print('-Top 20 negative-')        \n",
        "        print(coeff_df.tail(20).to_string(index=False))\n",
        "    \n",
        "    \n",
        "text_fit(X, y, c, LogisticRegression())"
      ]
    },
    {
      "cell_type": "markdown",
      "metadata": {
        "_cell_guid": "edcc6ec5-e764-4acc-ae37-1a69f23fa297",
        "_uuid": "26b218af8cd7c0c14d0d6ca5eec459a27b3fbdc7",
        "id": "e_vP-3UvjXRj"
      },
      "source": [
        "Accuracy is around 93.9% - not bad. However we notice that some of those significant coefficients are not meaningful, e.g. 280mg.\n",
        "\n",
        "Let's also look at the base line accuracy (predicting with majority class, in this case positive class):"
      ]
    },
    {
      "cell_type": "code",
      "execution_count": 7,
      "metadata": {
        "_cell_guid": "fd6edba5-9dc8-47e5-a6bb-b65d6ce1f5e8",
        "_uuid": "da62f498dd485b62cd7129804d36ab234b10904c",
        "execution": {
          "iopub.execute_input": "2021-05-21T02:00:27.823782Z",
          "iopub.status.busy": "2021-05-21T02:00:27.823427Z",
          "iopub.status.idle": "2021-05-21T02:01:13.981126Z",
          "shell.execute_reply": "2021-05-21T02:01:13.980075Z",
          "shell.execute_reply.started": "2021-05-21T02:00:27.823723Z"
        },
        "colab": {
          "base_uri": "https://localhost:8080/"
        },
        "id": "I26jjjhAjXRk",
        "outputId": "de793af4-de36-4dc1-8967-e307bcd914e0"
      },
      "outputs": [
        {
          "output_type": "stream",
          "name": "stdout",
          "text": [
            "# features: 114969\n",
            "# train records: 394360\n",
            "# test records: 131454\n",
            "Model Accuracy: 0.8437324082949168\n"
          ]
        }
      ],
      "source": [
        "text_fit(X, y, c, DummyClassifier(),0)"
      ]
    },
    {
      "cell_type": "markdown",
      "metadata": {
        "_cell_guid": "b106ed3d-779e-4ee6-b1ee-4d64455d4d37",
        "_uuid": "154cca9f52d1e77649f2e12140c6f912abcd0117",
        "id": "zd6hSd9_jXRl"
      },
      "source": [
        "### Logistic regression model on TFIDF"
      ]
    },
    {
      "cell_type": "code",
      "execution_count": 8,
      "metadata": {
        "_cell_guid": "cb526e31-a125-41d2-943a-7a3613f75624",
        "_uuid": "54023303417b1b6bcc32ebfa2dd973ec96c9a0a1",
        "execution": {
          "iopub.execute_input": "2021-05-21T02:01:13.985119Z",
          "iopub.status.busy": "2021-05-21T02:01:13.984861Z",
          "iopub.status.idle": "2021-05-21T02:02:12.615298Z",
          "shell.execute_reply": "2021-05-21T02:02:12.614247Z",
          "shell.execute_reply.started": "2021-05-21T02:01:13.985060Z"
        },
        "colab": {
          "base_uri": "https://localhost:8080/"
        },
        "id": "X8xxeHN8jXRl",
        "outputId": "e39b50ba-fd6a-4c5a-e4d0-f94c202dcf46"
      },
      "outputs": [
        {
          "output_type": "stream",
          "name": "stdout",
          "text": [
            "# features: 114969\n",
            "# train records: 394360\n",
            "# test records: 131454\n"
          ]
        },
        {
          "output_type": "stream",
          "name": "stderr",
          "text": [
            "/usr/local/lib/python3.7/dist-packages/sklearn/linear_model/_logistic.py:818: ConvergenceWarning: lbfgs failed to converge (status=1):\n",
            "STOP: TOTAL NO. of ITERATIONS REACHED LIMIT.\n",
            "\n",
            "Increase the number of iterations (max_iter) or scale the data as shown in:\n",
            "    https://scikit-learn.org/stable/modules/preprocessing.html\n",
            "Please also refer to the documentation for alternative solver options:\n",
            "    https://scikit-learn.org/stable/modules/linear_model.html#logistic-regression\n",
            "  extra_warning_msg=_LOGISTIC_SOLVER_CONVERGENCE_MSG,\n",
            "/usr/local/lib/python3.7/dist-packages/sklearn/utils/deprecation.py:87: FutureWarning: Function get_feature_names is deprecated; get_feature_names is deprecated in 1.0 and will be removed in 1.2. Please use get_feature_names_out instead.\n",
            "  warnings.warn(msg, category=FutureWarning)\n"
          ]
        },
        {
          "output_type": "stream",
          "name": "stdout",
          "text": [
            "Model Accuracy: 0.9346083040455216\n",
            "\n",
            "-Top 20 positive-\n",
            "      Word  Coefficient\n",
            "     great    13.695298\n",
            " delicious    12.264886\n",
            "      best    11.967094\n",
            "   perfect    10.723732\n",
            " excellent    10.013792\n",
            "     loves     9.552907\n",
            "    highly     8.970362\n",
            "      love     8.286137\n",
            " wonderful     8.087789\n",
            "   amazing     7.729151\n",
            "   awesome     7.501135\n",
            "pleasantly     7.455942\n",
            "      good     7.348545\n",
            "      nice     7.096568\n",
            "    hooked     7.076224\n",
            "   pleased     6.980317\n",
            "    smooth     6.910817\n",
            "  favorite     6.853610\n",
            "     yummy     6.821671\n",
            " fantastic     6.569467\n",
            "\n",
            "-Top 20 negative-\n",
            "          Word  Coefficient\n",
            "         waste    -5.647138\n",
            "          poor    -5.756170\n",
            "   undrinkable    -5.866625\n",
            "          yuck    -5.945607\n",
            "         stale    -6.088770\n",
            "         worse    -6.217101\n",
            "         bland    -6.345562\n",
            "          weak    -6.477051\n",
            "    disgusting    -6.514147\n",
            "         threw    -6.727794\n",
            "     tasteless    -6.733551\n",
            "        return    -6.795280\n",
            " unfortunately    -7.411392\n",
            "      horrible    -7.850534\n",
            "disappointment    -8.211662\n",
            "         awful    -8.216881\n",
            "  disappointed    -8.527157\n",
            "      terrible    -9.360631\n",
            " disappointing   -10.113241\n",
            "         worst   -11.701481\n"
          ]
        }
      ],
      "source": [
        "tfidf = TfidfVectorizer(stop_words = 'english')\n",
        "text_fit(X, y, tfidf, LogisticRegression())\n"
      ]
    },
    {
      "cell_type": "markdown",
      "metadata": {
        "_cell_guid": "fee2b5d6-d330-421f-9a33-a72fa51d72d2",
        "_uuid": "871fe6d0df70d4825ca6b7bb24d391e1c5ab7368",
        "id": "f-2dWRGvjXRm"
      },
      "source": [
        "Accurancy is roughly the same - 93.5%. However we notice that the significant words make much more sense now, with higher coefficient magnitude as well!"
      ]
    },
    {
      "cell_type": "markdown",
      "metadata": {
        "_cell_guid": "4e3d29af-8979-48c9-b072-d94964e4afe3",
        "_uuid": "192a21df420525cac90d288aabe64e74d4829aff",
        "id": "imnEKhtijXRm"
      },
      "source": [
        "### Logistic regression model on TFIDF + ngram"
      ]
    },
    {
      "cell_type": "code",
      "execution_count": 9,
      "metadata": {
        "_cell_guid": "4a6f8305-8426-4fb6-97ed-7ff639f27d42",
        "_uuid": "72916d30dca26b6d5af7cec81bf6cd8a10ab64ee",
        "execution": {
          "iopub.execute_input": "2021-05-21T02:02:12.617078Z",
          "iopub.status.busy": "2021-05-21T02:02:12.616732Z",
          "iopub.status.idle": "2021-05-21T02:05:31.094184Z",
          "shell.execute_reply": "2021-05-21T02:05:31.093300Z",
          "shell.execute_reply.started": "2021-05-21T02:02:12.617018Z"
        },
        "colab": {
          "base_uri": "https://localhost:8080/"
        },
        "id": "9JTowMxrjXRn",
        "outputId": "5edd5b8b-ec04-4ce6-d272-777b5614a18f"
      },
      "outputs": [
        {
          "output_type": "stream",
          "name": "stdout",
          "text": [
            "# features: 3933179\n",
            "# train records: 394360\n",
            "# test records: 131454\n"
          ]
        },
        {
          "output_type": "stream",
          "name": "stderr",
          "text": [
            "/usr/local/lib/python3.7/dist-packages/sklearn/linear_model/_logistic.py:818: ConvergenceWarning: lbfgs failed to converge (status=1):\n",
            "STOP: TOTAL NO. of ITERATIONS REACHED LIMIT.\n",
            "\n",
            "Increase the number of iterations (max_iter) or scale the data as shown in:\n",
            "    https://scikit-learn.org/stable/modules/preprocessing.html\n",
            "Please also refer to the documentation for alternative solver options:\n",
            "    https://scikit-learn.org/stable/modules/linear_model.html#logistic-regression\n",
            "  extra_warning_msg=_LOGISTIC_SOLVER_CONVERGENCE_MSG,\n",
            "/usr/local/lib/python3.7/dist-packages/sklearn/utils/deprecation.py:87: FutureWarning: Function get_feature_names is deprecated; get_feature_names is deprecated in 1.0 and will be removed in 1.2. Please use get_feature_names_out instead.\n",
            "  warnings.warn(msg, category=FutureWarning)\n"
          ]
        },
        {
          "output_type": "stream",
          "name": "stdout",
          "text": [
            "Model Accuracy: 0.9456768147032422\n",
            "\n",
            "-Top 20 positive-\n",
            "     Word  Coefficient\n",
            "    great    20.656004\n",
            "     best    17.912018\n",
            "delicious    16.972224\n",
            "  perfect    14.507385\n",
            "    loves    13.706369\n",
            "     love    13.044294\n",
            "excellent    13.036191\n",
            "     good    11.403729\n",
            "wonderful    11.200842\n",
            "     nice    10.901578\n",
            " favorite    10.659798\n",
            "  amazing     9.561725\n",
            "  awesome     9.251510\n",
            "     easy     9.141534\n",
            "    happy     8.964936\n",
            "  pleased     8.778300\n",
            "   smooth     8.607139\n",
            "    yummy     8.502293\n",
            "    tasty     8.459028\n",
            "   highly     8.402930\n",
            "\n",
            "-Top 20 negative-\n",
            "          Word  Coefficient\n",
            "         maybe    -7.892097\n",
            "        hoping    -8.053516\n",
            "         money    -8.167249\n",
            "     tasteless    -8.196235\n",
            "         worse    -8.266857\n",
            "       thought    -8.448484\n",
            "    disgusting    -8.679442\n",
            "         bland    -9.116741\n",
            "         threw    -9.248305\n",
            "         stale    -9.972202\n",
            "        return   -10.099827\n",
            "          weak   -10.110367\n",
            "disappointment   -10.274333\n",
            " unfortunately   -10.802058\n",
            "      horrible   -11.287234\n",
            "         awful   -11.747038\n",
            "      terrible   -12.926987\n",
            " disappointing   -13.316806\n",
            "  disappointed   -14.585683\n",
            "         worst   -15.032529\n"
          ]
        }
      ],
      "source": [
        "tfidf_n = TfidfVectorizer(ngram_range=(1,2),stop_words = 'english')\n",
        "text_fit(X, y, tfidf_n, LogisticRegression())"
      ]
    },
    {
      "cell_type": "markdown",
      "metadata": {
        "_cell_guid": "9e374d81-ee7a-433a-8ed1-5d5aeea9f279",
        "_uuid": "16d86e008a261cf09370ea25feb6944f9a9ccc32",
        "id": "udxlGkwfjXRo"
      },
      "source": [
        "Adding ngram parameter, we are able to understand phrase like \"not good\". Therefore the accuracy goes up a bit to 94.5%. We can see \"highly recommend\" is on 20th place of positive words"
      ]
    },
    {
      "cell_type": "markdown",
      "metadata": {
        "_cell_guid": "ddb94e95-3d7a-4a99-b525-8bbef54a8bbe",
        "_uuid": "22af55dec11ef18c2eb3b94ba53c7639e09324c4",
        "id": "kuKnzwAFjXRo"
      },
      "source": [
        "## Upvote prediction\n",
        "### Data preview"
      ]
    },
    {
      "cell_type": "markdown",
      "metadata": {
        "_cell_guid": "b568e9ad-6495-42ee-a377-3979a8e96cc9",
        "_uuid": "31f220dd27e37bd087bc501d9e56b728010a39b1",
        "id": "eKEAZ4UQjXRo"
      },
      "source": [
        "This study is to see whether there is pattern found for unpopular (downvote) comments by users (might be used to boost sales).\n",
        "We will be focusing on score 5 reviews, and get rid of comments with neutral votes:"
      ]
    },
    {
      "cell_type": "code",
      "execution_count": 10,
      "metadata": {
        "_cell_guid": "4159fa98-0cde-4934-ad74-046131e44608",
        "_uuid": "5ca846ee71a6ea947d7874b1737f2e87f32aa3b7",
        "execution": {
          "iopub.execute_input": "2021-05-21T02:05:31.096033Z",
          "iopub.status.busy": "2021-05-21T02:05:31.095672Z",
          "iopub.status.idle": "2021-05-21T02:05:31.243918Z",
          "shell.execute_reply": "2021-05-21T02:05:31.242163Z",
          "shell.execute_reply.started": "2021-05-21T02:05:31.095961Z"
        },
        "colab": {
          "base_uri": "https://localhost:8080/"
        },
        "id": "CtqWU-i9jXRp",
        "outputId": "18f7ec1e-debf-4e75-f465-fc9a794539e3"
      },
      "outputs": [
        {
          "output_type": "stream",
          "name": "stdout",
          "text": [
            "Class distribution:\n",
            "1.0    151721\n",
            "0.0      2707\n",
            "Name: % Upvote, dtype: int64\n"
          ]
        }
      ],
      "source": [
        "df = df[df['Score'] == 5]\n",
        "df = df[df['% Upvote'].isin(['0-20%', '20-40%', '60-80%', '80-100%'])]\n",
        "df.shape\n",
        "\n",
        "X = df['Text']\n",
        "y_dict = {'0-20%': 0, '20-40%': 0, '60-80%': 1, '80-100%': 1}\n",
        "y = df['% Upvote'].map(y_dict)\n",
        "\n",
        "print('Class distribution:')\n",
        "print(y.value_counts())"
      ]
    },
    {
      "cell_type": "markdown",
      "metadata": {
        "_cell_guid": "8dce7aef-6c66-4e8e-bfca-540383bdd709",
        "_uuid": "71ac359288e1b2610ddc42236b1253e16a0d3a1c",
        "id": "vA2P4wjcjXRq"
      },
      "source": [
        "The target class is highly skewed to positive (upvotes). Let's resample the data to get balanced data:"
      ]
    },
    {
      "cell_type": "code",
      "execution_count": 11,
      "metadata": {
        "_cell_guid": "33b320e7-80c0-4f04-899f-1f2c1e81e563",
        "_uuid": "3696b4f918c20e88319b8acb1be1153c92f66c3b",
        "execution": {
          "iopub.execute_input": "2021-05-21T02:05:31.246584Z",
          "iopub.status.busy": "2021-05-21T02:05:31.245978Z",
          "iopub.status.idle": "2021-05-21T02:05:46.704328Z",
          "shell.execute_reply": "2021-05-21T02:05:46.703295Z",
          "shell.execute_reply.started": "2021-05-21T02:05:31.246298Z"
        },
        "colab": {
          "base_uri": "https://localhost:8080/"
        },
        "id": "KaMLDsccjXRq",
        "outputId": "6ecef465-4e2e-469e-95f2-5b30dd54db31"
      },
      "outputs": [
        {
          "output_type": "stream",
          "name": "stdout",
          "text": [
            "Percentage of upvote transactions:  0.5\n",
            "Percentage of downvote transactions:  0.5\n",
            "Total number of records in resampled data:  5414\n"
          ]
        }
      ],
      "source": [
        "df_s = pd.DataFrame(data = [X,y]).T\n",
        "\n",
        "Downvote_records = len(df_s[df_s['% Upvote'] == 0])\n",
        "Downvote_indices = np.array(df_s[df_s['% Upvote'] == 0].index)\n",
        "\n",
        "Upvote_indices = df_s[df_s['% Upvote'] == 1].index\n",
        "\n",
        "random_upvote_indices = np.random.choice(Upvote_indices, Downvote_records, replace = False)\n",
        "random_upvote_indices = np.array(random_upvote_indices)\n",
        "\n",
        "under_sample_indices = np.concatenate([Downvote_indices,random_upvote_indices])\n",
        "\n",
        "under_sample_data = df_s.loc[under_sample_indices, :]\n",
        "X_u = under_sample_data['Text']\n",
        "under_sample_data['% Upvote'] = under_sample_data['% Upvote'].astype(int)\n",
        "y_u = under_sample_data['% Upvote']\n",
        "\n",
        "\n",
        "print(\"Percentage of upvote transactions: \", len(under_sample_data[under_sample_data['% Upvote'] == 1])/len(under_sample_data))\n",
        "print(\"Percentage of downvote transactions: \", len(under_sample_data[under_sample_data['% Upvote'] == 0])/len(under_sample_data))\n",
        "print(\"Total number of records in resampled data: \", len(under_sample_data))"
      ]
    },
    {
      "cell_type": "markdown",
      "metadata": {
        "_cell_guid": "30ef9791-cb76-436b-95b1-8768664d8ba4",
        "_uuid": "80f9dad3271fd1ec9da5777e3c8b6f974242915e",
        "id": "43GxyD-RjXRr"
      },
      "source": [
        "### Logistic regression model on word count"
      ]
    },
    {
      "cell_type": "code",
      "execution_count": 12,
      "metadata": {
        "_cell_guid": "65ffcfb6-635d-437d-9f08-0eadb9a6957c",
        "_uuid": "38d940aee1abb2d87cb10c79516f27f0e62e7b18",
        "execution": {
          "iopub.execute_input": "2021-05-21T02:05:46.706296Z",
          "iopub.status.busy": "2021-05-21T02:05:46.705857Z",
          "iopub.status.idle": "2021-05-21T02:05:47.505369Z",
          "shell.execute_reply": "2021-05-21T02:05:47.504326Z",
          "shell.execute_reply.started": "2021-05-21T02:05:46.706235Z"
        },
        "colab": {
          "base_uri": "https://localhost:8080/"
        },
        "id": "B23cEg2RjXRr",
        "outputId": "d8cc796b-b729-4cfe-f0c9-d427e7d122d7"
      },
      "outputs": [
        {
          "output_type": "stream",
          "name": "stdout",
          "text": [
            "# features: 16137\n",
            "# train records: 4060\n",
            "# test records: 1354\n",
            "Model Accuracy: 0.7149187592319055\n",
            "\n",
            "-Top 20 positive-\n",
            "       Word  Coefficient\n",
            "     keurig     1.443733\n",
            "      value     1.433375\n",
            "   quantity     1.341859\n",
            "     heaven     1.211095\n",
            "        ton     1.207693\n",
            "        run     1.189732\n",
            "     nearly     1.178797\n",
            "outstanding     1.146865\n",
            "   fabulous     1.132027\n",
            "      chewy     1.100735\n",
            "  microwave     1.097077\n",
            "   cinnamon     1.089618\n",
            "    veggies     1.080102\n",
            "   standard     1.068303\n",
            "   training     1.058342\n",
            "      puppy     1.032235\n",
            "   cherries     1.031435\n",
            "     needed     1.021318\n",
            "        vet     0.999389\n",
            "        fix     0.997645\n",
            "\n",
            "-Top 20 negative-\n",
            "      Word  Coefficient\n",
            "      yoga    -0.966400\n",
            "    unique    -1.016920\n",
            "   camping    -1.018013\n",
            "    manner    -1.025535\n",
            "   freshly    -1.037944\n",
            "      pour    -1.046886\n",
            "    joints    -1.051037\n",
            "     purse    -1.052286\n",
            "     fills    -1.062360\n",
            "     beats    -1.069643\n",
            "   feeling    -1.071956\n",
            "     kashi    -1.153103\n",
            "cappuccino    -1.173077\n",
            "  brooklyn    -1.174264\n",
            "     money    -1.203888\n",
            "   weather    -1.218983\n",
            "    lipton    -1.266390\n",
            "      bake    -1.376754\n",
            "     party    -1.441250\n",
            "    marley    -1.571817\n"
          ]
        },
        {
          "output_type": "stream",
          "name": "stderr",
          "text": [
            "/usr/local/lib/python3.7/dist-packages/sklearn/linear_model/_logistic.py:818: ConvergenceWarning: lbfgs failed to converge (status=1):\n",
            "STOP: TOTAL NO. of ITERATIONS REACHED LIMIT.\n",
            "\n",
            "Increase the number of iterations (max_iter) or scale the data as shown in:\n",
            "    https://scikit-learn.org/stable/modules/preprocessing.html\n",
            "Please also refer to the documentation for alternative solver options:\n",
            "    https://scikit-learn.org/stable/modules/linear_model.html#logistic-regression\n",
            "  extra_warning_msg=_LOGISTIC_SOLVER_CONVERGENCE_MSG,\n",
            "/usr/local/lib/python3.7/dist-packages/sklearn/utils/deprecation.py:87: FutureWarning: Function get_feature_names is deprecated; get_feature_names is deprecated in 1.0 and will be removed in 1.2. Please use get_feature_names_out instead.\n",
            "  warnings.warn(msg, category=FutureWarning)\n"
          ]
        }
      ],
      "source": [
        "c = CountVectorizer(stop_words = 'english')\n",
        "\n",
        "text_fit(X_u, y_u, c, LogisticRegression())"
      ]
    },
    {
      "cell_type": "markdown",
      "metadata": {
        "_cell_guid": "20296e55-ff5a-46c2-84fa-d14db01a7b8a",
        "_uuid": "2a1b0573fa2844772b47244fc0ebdc161ab0a0b6",
        "id": "5khwDmbmjXRs"
      },
      "source": [
        "The words look no sense at all, and the coefficients are very small."
      ]
    },
    {
      "cell_type": "markdown",
      "metadata": {
        "_cell_guid": "c4ed4015-6e67-4073-b0c9-1a56bcea6098",
        "_uuid": "b2eff77a4b50bfe114df381ca1bba7a0a42fd4ab",
        "id": "npfdkNwtjXRs"
      },
      "source": [
        "### Logistic regression model on TFIDF + ngram"
      ]
    },
    {
      "cell_type": "code",
      "execution_count": 13,
      "metadata": {
        "_cell_guid": "d72dcc7d-74b0-4c5d-92a3-87e4034fb0ce",
        "_uuid": "b9bb5e65c4f20416739d68800b91d546feb0a7e4",
        "execution": {
          "iopub.execute_input": "2021-05-21T02:05:47.507617Z",
          "iopub.status.busy": "2021-05-21T02:05:47.507231Z",
          "iopub.status.idle": "2021-05-21T02:05:50.298225Z",
          "shell.execute_reply": "2021-05-21T02:05:50.297329Z",
          "shell.execute_reply.started": "2021-05-21T02:05:47.507543Z"
        },
        "colab": {
          "base_uri": "https://localhost:8080/"
        },
        "id": "rhVq9mdsjXRs",
        "outputId": "223364f2-cce8-4cf9-eab3-d3dcf0487058"
      },
      "outputs": [
        {
          "output_type": "stream",
          "name": "stdout",
          "text": [
            "# features: 144846\n",
            "# train records: 4060\n",
            "# test records: 1354\n",
            "Model Accuracy: 0.7333825701624815\n"
          ]
        },
        {
          "output_type": "stream",
          "name": "stderr",
          "text": [
            "/usr/local/lib/python3.7/dist-packages/sklearn/utils/deprecation.py:87: FutureWarning: Function get_feature_names is deprecated; get_feature_names is deprecated in 1.0 and will be removed in 1.2. Please use get_feature_names_out instead.\n",
            "  warnings.warn(msg, category=FutureWarning)\n"
          ]
        },
        {
          "output_type": "stream",
          "name": "stdout",
          "text": [
            "\n",
            "-Top 20 positive-\n",
            "    Word  Coefficient\n",
            "    food     1.991664\n",
            "      ve     1.510460\n",
            "     bag     1.487181\n",
            "     mix     1.450314\n",
            "    make     1.424865\n",
            "    salt     1.422660\n",
            " perfect     1.261858\n",
            "     lot     1.256071\n",
            "   chips     1.243114\n",
            "favorite     1.184554\n",
            "   fresh     1.172004\n",
            "    teas     1.063432\n",
            " chicken     1.032539\n",
            "  brands     1.024751\n",
            "  weight     1.008643\n",
            "   small     0.966532\n",
            "  flavor     0.963645\n",
            "   pasta     0.942644\n",
            "   jerky     0.941255\n",
            "     dog     0.939848\n",
            "\n",
            "-Top 20 negative-\n",
            "        Word  Coefficient\n",
            "      bottle    -0.841229\n",
            "      people    -0.847947\n",
            "      seller    -0.854304\n",
            "        sure    -0.855970\n",
            "        wish    -0.884972\n",
            "        yoga    -0.914711\n",
            "       order    -1.032738\n",
            "        know    -1.061646\n",
            "       money    -1.072166\n",
            "     product    -1.076605\n",
            "      lipton    -1.080713\n",
            "        zico    -1.081512\n",
            "  cappuccino    -1.089607\n",
            "      marley    -1.102238\n",
            "great coffee    -1.107829\n",
            "     service    -1.175180\n",
            "       water    -1.254389\n",
            "      coffee    -1.407499\n",
            "       drink    -1.532870\n",
            "          br    -2.141549\n"
          ]
        }
      ],
      "source": [
        "tfidf_n = TfidfVectorizer(ngram_range=(1,2),stop_words = 'english')\n",
        "\n",
        "text_fit(X_u, y_u, tfidf_n, LogisticRegression())"
      ]
    },
    {
      "cell_type": "markdown",
      "metadata": {
        "_cell_guid": "8151e536-ef85-4d64-8ebf-10fbeb8c76cc",
        "_uuid": "98a02ac427ac71302f8d9ffd134bd3c2670afd99",
        "id": "_xRSRF9qjXRt"
      },
      "source": [
        "Similar to count metric, the accuracy isn't very high and words are not meaningful."
      ]
    },
    {
      "cell_type": "markdown",
      "metadata": {
        "_cell_guid": "8177abd0-2cfd-4c26-b82f-2bf2edc199f8",
        "_uuid": "7254306b3a79653a783012031a28452fa610409b",
        "id": "_9KWzA40jXRt"
      },
      "source": [
        "### Study on non-context features"
      ]
    },
    {
      "cell_type": "markdown",
      "metadata": {
        "_cell_guid": "c1b58b3a-43aa-4215-8a5b-cd5261cee2e8",
        "_uuid": "b19f5f3dd9f233d39c6e1cdb44a514637dde6841",
        "id": "LKZVGvGajXRt"
      },
      "source": [
        "Study on non-context featuresLet's look at some examples of upvote and downvote comments:"
      ]
    },
    {
      "cell_type": "code",
      "execution_count": 14,
      "metadata": {
        "_cell_guid": "b056c0a1-8976-4571-ad47-3bc2c45d6fa2",
        "_uuid": "a1b7fed1cff92a13db1289a018900a585574c21f",
        "execution": {
          "iopub.execute_input": "2021-05-21T02:05:50.300172Z",
          "iopub.status.busy": "2021-05-21T02:05:50.299792Z",
          "iopub.status.idle": "2021-05-21T02:05:50.316121Z",
          "shell.execute_reply": "2021-05-21T02:05:50.314357Z",
          "shell.execute_reply.started": "2021-05-21T02:05:50.300099Z"
        },
        "colab": {
          "base_uri": "https://localhost:8080/"
        },
        "id": "cF0yij6jjXRu",
        "outputId": "d31fc308-42ac-4be7-cebe-2a38f9d76c7f"
      },
      "outputs": [
        {
          "output_type": "stream",
          "name": "stdout",
          "text": [
            "Downvote score 5 comments examples:\n",
            "207      Hard to find the wintergreen smalls [sugar fre...\n",
            "4511     Wonderful, smooth, satisfying decaf coffee wit...\n",
            "7787     My husband is a big coffee drinker, and with a...\n",
            "12072    We love French roast coffee and my husband mus...\n",
            "13671    THIS IS A LOVELY VERY HEALTHY TREE,ALONG WITH ...\n",
            "Name: Text, dtype: object\n",
            "Upvote score 5 comments examples\n",
            "205221    We live in a climate that produces mouth-water...\n",
            "203847    We have purchased many gluten free products fo...\n",
            "456277    The box was full of fun surprises !!! More tha...\n",
            "525642    As a single person, I find the portions of ang...\n",
            "226261    This stuff is wonderful.  I like carbonated dr...\n",
            "Name: Text, dtype: object\n"
          ]
        }
      ],
      "source": [
        "#pd.set_option('display.max_colwidth', -1)\n",
        "print('Downvote score 5 comments examples:')\n",
        "print(under_sample_data[under_sample_data['% Upvote']==0]['Text'].iloc[:100:20])\n",
        "print('Upvote score 5 comments examples')\n",
        "print(under_sample_data[under_sample_data['% Upvote']==1]['Text'].iloc[:100:20])"
      ]
    },
    {
      "cell_type": "markdown",
      "metadata": {
        "_cell_guid": "5841a2fe-e967-485f-ade4-3d16e4d8d383",
        "_uuid": "f4d7310c83e84a1846df1f9f84214e15c0b42151",
        "id": "94CaQ2NAjXRu"
      },
      "source": [
        "Time to extract some possible features:"
      ]
    },
    {
      "cell_type": "code",
      "execution_count": 15,
      "metadata": {
        "_cell_guid": "fc10f1df-c999-4580-8b3e-ece62a9f4763",
        "_uuid": "d1e242d3b9fc260e8246598bf94473894ea2a9bd",
        "execution": {
          "iopub.execute_input": "2021-05-21T02:05:50.318679Z",
          "iopub.status.busy": "2021-05-21T02:05:50.318024Z",
          "iopub.status.idle": "2021-05-21T02:05:50.934677Z",
          "shell.execute_reply": "2021-05-21T02:05:50.932049Z",
          "shell.execute_reply.started": "2021-05-21T02:05:50.318592Z"
        },
        "colab": {
          "base_uri": "https://localhost:8080/"
        },
        "id": "kkpN0XbHjXRv",
        "outputId": "4f3b66ad-95b3-4031-ef38-1c794fbd4903"
      },
      "outputs": [
        {
          "output_type": "stream",
          "name": "stdout",
          "text": [
            "% Upvote                  0          1\n",
            "word_count        83.927226  88.064278\n",
            "capital_count     19.252678  14.037311\n",
            "question_mark      0.180273   0.076838\n",
            "exclamation_mark   0.906169   0.879941\n",
            "punctuation       22.482822  19.551533\n"
          ]
        }
      ],
      "source": [
        "under_sample_data['word_count'] = under_sample_data['Text'].apply(lambda x: len(x.split()))\n",
        "under_sample_data['capital_count'] = under_sample_data['Text'].apply(lambda x: sum(1 for c in x if c.isupper()))\n",
        "under_sample_data['question_mark'] = under_sample_data['Text'].apply(lambda x: sum(1 for c in x if c == '?'))\n",
        "under_sample_data['exclamation_mark'] = under_sample_data['Text'].apply(lambda x: sum(1 for c in x if c == '!'))\n",
        "under_sample_data['punctuation'] = under_sample_data['Text'].apply(lambda x: sum(1 for c in x if c in punctuation))\n",
        "\n",
        "print(under_sample_data.groupby('% Upvote').agg({'word_count': 'mean', 'capital_count': 'mean', 'question_mark': 'mean', 'exclamation_mark': 'mean', 'punctuation': 'mean'}).T)\n",
        "\n",
        "X_num = under_sample_data[under_sample_data.columns.difference(['% Upvote', 'Text'])]\n",
        "y_num = under_sample_data['% Upvote']\n"
      ]
    },
    {
      "cell_type": "markdown",
      "metadata": {
        "_cell_guid": "a273f109-5c2e-40d0-8dcb-51f75783dcf9",
        "_uuid": "e817b1ba10decfec707f02a69764174f0782efbe",
        "id": "8TZaWqSljXRv"
      },
      "source": [
        "Now we train the model to predict:"
      ]
    },
    {
      "cell_type": "code",
      "execution_count": 16,
      "metadata": {
        "_cell_guid": "0aada9b1-e851-4001-aa6f-b2932f82986a",
        "_uuid": "a3c3cd460cf154127fbe7577b174f31b48227b53",
        "execution": {
          "iopub.execute_input": "2021-05-21T02:05:50.937097Z",
          "iopub.status.busy": "2021-05-21T02:05:50.936518Z",
          "iopub.status.idle": "2021-05-21T02:05:51.987135Z",
          "shell.execute_reply": "2021-05-21T02:05:51.986080Z",
          "shell.execute_reply.started": "2021-05-21T02:05:50.936847Z"
        },
        "colab": {
          "base_uri": "https://localhost:8080/"
        },
        "id": "jbsNPT0WjXRw",
        "outputId": "e061e539-43b9-4a61-e630-74785976fbe6"
      },
      "outputs": [
        {
          "output_type": "stream",
          "name": "stdout",
          "text": [
            "Logistic Regression accuracy: 0.5878877400295421\n",
            "SVM accuracy: 0.5812407680945347\n"
          ]
        }
      ],
      "source": [
        "X_train, X_test, y_train, y_test = train_test_split(X_num, y_num, random_state=0)\n",
        "\n",
        "clf_lr = LogisticRegression().fit(X_train, y_train)\n",
        "acc_lr = clf_lr.score(X_test, y_test)\n",
        "print('Logistic Regression accuracy: {}'.format(acc_lr))\n",
        "\n",
        "clf_svm = svm.SVC().fit(X_train, y_train)\n",
        "acc_svm = clf_svm.score(X_test, y_test)\n",
        "print('SVM accuracy: {}'.format(acc_svm))"
      ]
    },
    {
      "cell_type": "markdown",
      "metadata": {
        "_cell_guid": "4fd116b9-fe41-433b-9d79-00a28f9ea86c",
        "_uuid": "a781da0f073df2998107e36e66752ed5b5ebf33a",
        "id": "GqXfyVJpjXRw"
      },
      "source": [
        "Accuracy is lower than context features we tried above, meaning the feature is not good enough to predict our target."
      ]
    },
    {
      "cell_type": "markdown",
      "metadata": {
        "_cell_guid": "2f458f6a-806f-4b8c-891a-bead3abb248c",
        "_uuid": "7fd8db193bc024e92266d5e883a73152366f5609",
        "id": "qr1DpWyQjXRw"
      },
      "source": [
        "## In-depth study on user behaviour"
      ]
    },
    {
      "cell_type": "markdown",
      "metadata": {
        "_cell_guid": "36924dc3-12d8-431d-8da8-fc92f6893d5b",
        "_uuid": "ac6f97ed677b2581b9da5d9102980fb0e988323b",
        "id": "E9bP57O_jXRx"
      },
      "source": [
        "This analysis will be carried out to focus on one specific user, on what he / she likes in terms of fine food, based on the reviews he / she had given in the past. This can be expanded to all users later on. \n",
        "\n",
        "First let's look at how many reviews each user gave in the past:"
      ]
    },
    {
      "cell_type": "code",
      "execution_count": 17,
      "metadata": {
        "_cell_guid": "c698ccae-4423-4586-832c-07675ae4643d",
        "_uuid": "290c5adaf8560bddb9de09f8209beba77013d4c3",
        "execution": {
          "iopub.execute_input": "2021-05-21T02:05:51.989245Z",
          "iopub.status.busy": "2021-05-21T02:05:51.988664Z",
          "iopub.status.idle": "2021-05-21T02:05:53.412043Z",
          "shell.execute_reply": "2021-05-21T02:05:53.411048Z",
          "shell.execute_reply.started": "2021-05-21T02:05:51.989182Z"
        },
        "colab": {
          "base_uri": "https://localhost:8080/"
        },
        "id": "tBv1zKaIjXRx",
        "outputId": "efdd6a8d-36aa-49b8-a14a-840f1e4ebac8"
      },
      "outputs": [
        {
          "output_type": "stream",
          "name": "stdout",
          "text": [
            "                                                       Score count  Score mean\n",
            "UserId         ProfileName                                                    \n",
            "A3OXHLG6DIBRW8 C. F. Hill \"CFH\"                                448    4.535714\n",
            "A1YUL9PCJR3JTY O. Brown \"Ms. O. Khannah-Brown\"                 421    4.494062\n",
            "AY12DBB0U420B  Gary Peterson                                   389    4.647815\n",
            "A281NPSIMI1C2R Rebecca of Amazon \"The Rebecca Review\"          365    4.841096\n",
            "A1Z54EM24Y40LL c2                                              256    4.453125\n",
            "A1TMAVN4CEM8U8 Gunner                                          204    4.833333\n",
            "A2MUGFV2TDQ47K Lynrie \"Oh HELL no\"                             201    3.751244\n",
            "A3TVZM3ZIXG8YW christopher hayes                               199    1.000000\n",
            "A3PJZ8TU8FDQ1K Jared Castle                                    178    4.601124\n",
            "AQQLWCMRNDFGI  Steven A. Peterson                              176    3.954545\n"
          ]
        }
      ],
      "source": [
        "df_user = odf.groupby(['UserId', 'ProfileName']).agg({'Score':['count', 'mean']})\n",
        "df_user.columns = df_user.columns.get_level_values(1)\n",
        "df_user.columns = ['Score count', 'Score mean']\n",
        "df_user = df_user.sort_values(by = 'Score count', ascending = False)\n",
        "print(df_user.head(10))\n"
      ]
    },
    {
      "cell_type": "markdown",
      "metadata": {
        "_cell_guid": "76a4827d-9284-4b7d-a7db-6bca1c7195f6",
        "_uuid": "152f88e34f56968f92d060854070f28ab8d69a84",
        "id": "8XIdxuJYjXRy"
      },
      "source": [
        "The user with most frequent reviews are \"CFH\" with 448 reviews and average score 4.54. Let's look at his review distribution:"
      ]
    },
    {
      "cell_type": "code",
      "execution_count": 18,
      "metadata": {
        "_cell_guid": "2ea99724-28d9-48ac-b841-e8dbdb3875f6",
        "_uuid": "32353458bc0d3075a945f3717b29cf321932fd7d",
        "execution": {
          "iopub.execute_input": "2021-05-21T02:05:53.414042Z",
          "iopub.status.busy": "2021-05-21T02:05:53.413649Z",
          "iopub.status.idle": "2021-05-21T02:05:54.095290Z",
          "shell.execute_reply": "2021-05-21T02:05:54.094238Z",
          "shell.execute_reply.started": "2021-05-21T02:05:53.413952Z"
        },
        "colab": {
          "base_uri": "https://localhost:8080/",
          "height": 604
        },
        "id": "_3VugVpljXRy",
        "outputId": "92ddadb2-aea3-4edc-c9f2-e7095f535c20"
      },
      "outputs": [
        {
          "output_type": "display_data",
          "data": {
            "image/png": "[encoded data removed]",
            "text/plain": [
              "<Figure size 1080x720 with 1 Axes>"
            ]
          },
          "metadata": {
            "needs_background": "light"
          }
        }
      ],
      "source": [
        "def plot_user(UserId):\n",
        "    df_1user = odf[odf['UserId'] == UserId]['Score']\n",
        "    df_1user_plot = df_1user.value_counts(sort=False)\n",
        "    ax = df_1user_plot.plot(kind = 'bar', figsize = (15,10), title = 'Score distribution of user {} review'.format(odf[odf['UserId'] == UserId]['ProfileName'].iloc[0]))\n",
        "\n",
        "plot_user('A3OXHLG6DIBRW8')"
      ]
    },
    {
      "cell_type": "markdown",
      "metadata": {
        "_cell_guid": "2c4749bf-8af8-4af7-b96f-f224cada9615",
        "_uuid": "2c9caf2d64eae4f89e8f3c0e969d28e89ec871e9",
        "id": "xl7--F2JjXRy"
      },
      "source": [
        "It looks user \"CFH\" prefer to give high score a lot. I would rather analyze a more neutral user, let's dig into that:"
      ]
    },
    {
      "cell_type": "code",
      "execution_count": 19,
      "metadata": {
        "_cell_guid": "2e09a303-8c2f-4632-bc3c-bc86827ce4cf",
        "_uuid": "d99e5622ab3ccbe804c8bb233e98dd82a643b9e9",
        "execution": {
          "iopub.execute_input": "2021-05-21T02:05:54.097149Z",
          "iopub.status.busy": "2021-05-21T02:05:54.096772Z",
          "iopub.status.idle": "2021-05-21T02:05:54.116056Z",
          "shell.execute_reply": "2021-05-21T02:05:54.115007Z",
          "shell.execute_reply.started": "2021-05-21T02:05:54.097091Z"
        },
        "colab": {
          "base_uri": "https://localhost:8080/"
        },
        "id": "9b_5y2TOjXRz",
        "outputId": "08742085-ce4b-48cd-a459-0e038f10e837"
      },
      "outputs": [
        {
          "output_type": "stream",
          "name": "stdout",
          "text": [
            "                                Score count  Score mean\n",
            "UserId         ProfileName                             \n",
            "A35R32TA60XD57 M. Torma                 141    3.460993\n",
            "A2M9D9BDHONV3Y A. Bennett               115    3.269565\n",
            "A2TN9C5E4A0I3F Jimmy                    110    2.727273\n",
            "A2XNJJ9TF70P4J Angie                     85    2.976471\n",
            "AJB5P7GVR0MT8  Harry the Horse           70    3.257143\n"
          ]
        }
      ],
      "source": [
        "print(df_user[(df_user['Score mean']<3.5) & (df_user['Score mean']>2.5)].head())"
      ]
    },
    {
      "cell_type": "markdown",
      "metadata": {
        "_cell_guid": "bd9e9ea9-4b40-4424-8b25-40ae32c04daa",
        "_uuid": "e85e3bcfec7b42bc6f0b90351a1a18e3ecc08444",
        "id": "42A9HlykjXRz"
      },
      "source": [
        "A. Bennett seems a good target:"
      ]
    },
    {
      "cell_type": "code",
      "execution_count": 20,
      "metadata": {
        "_cell_guid": "a7c92ba7-0259-447f-a13d-8b586f9fbb40",
        "_uuid": "89514c32c39edad69e70fc564a29078cb5b60761",
        "execution": {
          "iopub.execute_input": "2021-05-21T02:05:54.118664Z",
          "iopub.status.busy": "2021-05-21T02:05:54.118045Z",
          "iopub.status.idle": "2021-05-21T02:05:54.802189Z",
          "shell.execute_reply": "2021-05-21T02:05:54.801302Z",
          "shell.execute_reply.started": "2021-05-21T02:05:54.118363Z"
        },
        "colab": {
          "base_uri": "https://localhost:8080/",
          "height": 604
        },
        "id": "VD0ptyUajXRz",
        "outputId": "a77e2d25-4594-4cff-faa6-81be6876fcf6"
      },
      "outputs": [
        {
          "output_type": "display_data",
          "data": {
            "image/png": "[encoded data removed]",
            "text/plain": [
              "<Figure size 1080x720 with 1 Axes>"
            ]
          },
          "metadata": {
            "needs_background": "light"
          }
        }
      ],
      "source": [
        "plot_user('A2M9D9BDHONV3Y')"
      ]
    },
    {
      "cell_type": "markdown",
      "metadata": {
        "_cell_guid": "ba36510e-0c03-472c-9e47-b37b1f4ad2b3",
        "_uuid": "94993660cefaacbc71ffbf2e38a690c1fc23b859",
        "id": "1jHOJgnUjXR0"
      },
      "source": [
        "He seems like a better analysis target! Now let's dig deep into his reviews:"
      ]
    },
    {
      "cell_type": "code",
      "execution_count": 21,
      "metadata": {
        "_cell_guid": "2de54019-90b9-48db-819c-6c18a0350c7d",
        "_uuid": "bdff6fb6209a93fa2e95468df38c77a8b1d487a1",
        "execution": {
          "iopub.execute_input": "2021-05-21T02:05:54.804150Z",
          "iopub.status.busy": "2021-05-21T02:05:54.803772Z",
          "iopub.status.idle": "2021-05-21T02:05:58.199878Z",
          "shell.execute_reply": "2021-05-21T02:05:58.198892Z",
          "shell.execute_reply.started": "2021-05-21T02:05:54.804092Z"
        },
        "colab": {
          "base_uri": "https://localhost:8080/"
        },
        "id": "jtDzbb-9jXR0",
        "outputId": "9c1eda5c-6597-45b8-8de2-e88fa9a1d7fd"
      },
      "outputs": [
        {
          "output_type": "stream",
          "name": "stdout",
          "text": [
            "score 1 reviews most popular 2-gram / 3-gram:\n",
            "                    Phrase  Count  Occur %\n",
            "0               (..., ...)   31.0  119.23%\n",
            "1          (..., ..., ...)   17.0   65.38%\n",
            "2             (never, buy)   11.0   42.31%\n",
            "3           (buy, product)    9.0   34.62%\n",
            "4    (never, buy, product)    8.0   30.77%\n",
            "5  (monosodium, glutamate)    8.0   30.77%\n",
            "6         (dry, tasteless)    7.0   26.92%\n",
            "7          (picture, look)    7.0   26.92%\n",
            "8            (decide, try)    7.0   26.92%\n",
            "score 2 reviews most popular 2-gram / 3-gram:\n",
            "                  Phrase  Count Occur %\n",
            "0          (ruin, whole)    8.0  47.06%\n",
            "1   (sauce, ruin, whole)    8.0  47.06%\n",
            "2          (sauce, ruin)    8.0  47.06%\n",
            "3        (product, ever)    6.0  35.29%\n",
            "4             (n't, buy)    6.0  35.29%\n",
            "5            (try, like)    5.0  29.41%\n",
            "6      (n't, get, wrong)    5.0  29.41%\n",
            "7      (buy, particular)    5.0  29.41%\n",
            "8           (get, wrong)    5.0  29.41%\n",
            "9             (n't, get)    5.0  29.41%\n",
            "10     (..., .give, try)    5.0  29.41%\n",
            "11    (.give, try, like)    5.0  29.41%\n",
            "12          (.give, try)    5.0  29.41%\n",
            "13          (..., .give)    5.0  29.41%\n",
            "14         (taste, like)    5.0  29.41%\n",
            "score 3 reviews most popular 2-gram / 3-gram:\n",
            "          Phrase  Count Occur %\n",
            "0     (..., ...)    7.0   50.0%\n",
            "1   (whole, lot)    4.0  28.57%\n",
            "2  (taste, like)    4.0  28.57%\n",
            "score 4 reviews most popular 2-gram / 3-gram:\n",
            "                Phrase  Count Occur %\n",
            "0  (highly, recommend)    6.0   37.5%\n",
            "1         (side, dish)    5.0  31.25%\n",
            "2       (potato, chip)    4.0   25.0%\n",
            "score 5 reviews most popular 2-gram / 3-gram:\n",
            "                Phrase  Count Occur %\n",
            "0  (highly, recommend)   18.0  42.86%\n"
          ]
        }
      ],
      "source": [
        "def get_token_ngram(score, benchmark, userid='all'):\n",
        "\n",
        "    if userid != 'all':\n",
        "        df = odf[(odf['UserId'] == userid) & (odf['Score'] == score)]['Text']\n",
        "    else:\n",
        "        df = odf[odf['Score'] == score]['Text']\n",
        "        \n",
        "    count = len(df)\n",
        "    total_text = ' '.join(df)\n",
        "    total_text = total_text.lower()\n",
        "    stop = set(stopwords.words('english'))\n",
        "    total_text = nltk.word_tokenize(total_text)\n",
        "    total_text = [word for word in total_text if word not in stop and len(word) >= 3]\n",
        "    lemmatizer = WordNetLemmatizer()\n",
        "    total_text = [lemmatizer.lemmatize(w,'v') for w in total_text]\n",
        "    bigrams = ngrams(total_text,2)\n",
        "    trigrams = ngrams(total_text, 3)\n",
        "\n",
        "    # look at 2-gram and 3-gram together\n",
        "    combine = chain(bigrams, trigrams)\n",
        "    text = nltk.Text(combine)\n",
        "    fdist = nltk.FreqDist(text)\n",
        "    \n",
        "    # return only phrase occurs more than benchmark of his reviews\n",
        "    return sorted([(w,fdist[w],str(round(fdist[w]/count*100,2))+'%') for w in set(text) if fdist[w] >= count*benchmark], key=lambda x: -x[1])\n",
        "\n",
        "# score 1-5 reviews with this user\n",
        "index = ['Phrase', 'Count', 'Occur %']\n",
        "\n",
        "for j in range(1,6):\n",
        "    test = pd.DataFrame()\n",
        "    d = get_token_ngram(j, 0.25, 'A2M9D9BDHONV3Y')\n",
        "    print('score {} reviews most popular 2-gram / 3-gram:'.format(j))\n",
        "    for i in d:\n",
        "        test = test.append(pd.Series(i, index = index), ignore_index = True)\n",
        "    test = test.sort_values('Count', ascending=False)\n",
        "    print(test)\n",
        "\n"
      ]
    },
    {
      "cell_type": "markdown",
      "metadata": {
        "_cell_guid": "0bbcac4b-78a6-4e8d-adf8-3a6a1ce04f9e",
        "_uuid": "226ae03b35efa71db8446f4652295c7a557d8656",
        "id": "bvhThm6sjXR1"
      },
      "source": [
        "Seems like A. Bennett likes to use something like \"give it a try\" for score 2 reviews and \"highly recommend\" for score 5 reviews (without other frequent phrases). He likes using the phrase \"...\" a lot as well. Sample size is very small though.\n",
        "\n",
        "Let's look at full picture now instead of just one user:"
      ]
    },
    {
      "cell_type": "code",
      "execution_count": 22,
      "metadata": {
        "_cell_guid": "33174a83-6b0a-4525-ae2c-894c2753a7b2",
        "_uuid": "8290839463e5ede1665dfaf143ffb45e469b4888",
        "execution": {
          "iopub.execute_input": "2021-05-21T02:05:58.203730Z",
          "iopub.status.busy": "2021-05-21T02:05:58.203403Z",
          "iopub.status.idle": "2021-05-21T02:23:51.532143Z",
          "shell.execute_reply": "2021-05-21T02:23:51.531272Z",
          "shell.execute_reply.started": "2021-05-21T02:05:58.203664Z"
        },
        "colab": {
          "base_uri": "https://localhost:8080/"
        },
        "id": "_UrBWjA8jXR1",
        "outputId": "5239576c-ebfb-43cd-a2fb-05c74d1394f8"
      },
      "outputs": [
        {
          "output_type": "stream",
          "name": "stdout",
          "text": [
            "score 1 reviews most popular 2-gram / 3-gram:\n",
            "           Phrase   Count Occur %\n",
            "0   (taste, like)  5536.0  10.59%\n",
            "1  (waste, money)  2316.0   4.43%\n",
            "2    (could, n't)  2175.0   4.16%\n",
            "3     (n't, even)  2111.0   4.04%\n",
            "4     (n't, know)  1809.0   3.46%\n",
            "5    (would, n't)  1794.0   3.43%\n",
            "6      (n't, buy)  1644.0   3.15%\n",
            "score 2 reviews most popular 2-gram / 3-gram:\n",
            "           Phrase   Count Occur %\n",
            "0   (taste, like)  3161.0  10.62%\n",
            "1     (n't, like)  1362.0   4.58%\n",
            "2    (would, n't)  1304.0   4.38%\n",
            "3  (think, would)  1086.0   3.65%\n",
            "4      (n't, buy)  1064.0   3.57%\n",
            "5     (n't, know)  1010.0   3.39%\n",
            "6    (n't, taste)   996.0   3.35%\n",
            "7    (could, n't)   945.0   3.17%\n",
            "8   (taste, good)   910.0   3.06%\n",
            "score 3 reviews most popular 2-gram / 3-gram:\n",
            "           Phrase   Count Occur %\n",
            "0   (taste, like)  3237.0   7.59%\n",
            "1    (would, n't)  1632.0   3.83%\n",
            "2     (n't, like)  1612.0   3.78%\n",
            "3   (taste, good)  1551.0   3.64%\n",
            "4   (href=, http)  1463.0   3.43%\n",
            "5     (n't, know)  1406.0    3.3%\n",
            "6  (think, would)  1295.0   3.04%\n",
            "score 4 reviews most popular 2-gram / 3-gram:\n",
            "           Phrase   Count Occur %\n",
            "0   (taste, like)  4353.0    5.4%\n",
            "1   (taste, good)  3203.0   3.97%\n",
            "2   (href=, http)  3011.0   3.73%\n",
            "3  (pretty, good)  2819.0    3.5%\n",
            "4  (really, like)  2742.0    3.4%\n",
            "5     (n't, like)  2427.0   3.01%\n",
            "score 5 reviews most popular 2-gram / 3-gram:\n",
            "                Phrase    Count Occur %\n",
            "0  (highly, recommend)  17499.0   4.82%\n",
            "1        (taste, like)  14450.0   3.98%\n",
            "2     (grocery, store)  11762.0   3.24%\n",
            "3       (taste, great)  11471.0   3.16%\n"
          ]
        }
      ],
      "source": [
        "# score 1-5 reviews with all users\n",
        "index = ['Phrase', 'Count', 'Occur %']\n",
        "\n",
        "for j in range(1,6):\n",
        "    test = pd.DataFrame()\n",
        "    # easier benchmark since we have many different users here, thus different phrase\n",
        "    d = get_token_ngram(j, 0.03)\n",
        "    print('score {} reviews most popular 2-gram / 3-gram:'.format(j))\n",
        "    for i in d:\n",
        "        test = test.append(pd.Series(i, index = index), ignore_index = True)\n",
        "    test = test.sort_values('Count', ascending=False)\n",
        "    print(test)"
      ]
    },
    {
      "cell_type": "markdown",
      "metadata": {
        "_cell_guid": "8c1cad58-69da-4e0d-b6fb-83259be25759",
        "_uuid": "549ee31225e30abd609b6f7dc6e7f0e46b6e09fa",
        "id": "OFuN7J9VjXR2"
      },
      "source": [
        "Funny that people are more likely to attach HTML links (href=) for more positive reviews (3 and 4).\n",
        "<br>\n",
        "Other than that, not much useful discoveries except positive / negative tones, since people are very different in texting style. \n",
        "<br>\n",
        "Maybe we should focus on popular single **adjective** word people used for different score. First we modify the function a bit for easier implementation:"
      ]
    },
    {
      "cell_type": "code",
      "execution_count": 23,
      "metadata": {
        "_cell_guid": "83300b5e-17fa-4aca-be29-14f97202c2be",
        "_uuid": "09ae2694002b63c623bb03bca4c17eaf24f9c571",
        "execution": {
          "iopub.execute_input": "2021-05-21T02:23:51.534962Z",
          "iopub.status.busy": "2021-05-21T02:23:51.534590Z",
          "iopub.status.idle": "2021-05-21T02:23:51.544391Z",
          "shell.execute_reply": "2021-05-21T02:23:51.543232Z",
          "shell.execute_reply.started": "2021-05-21T02:23:51.534888Z"
        },
        "id": "TATSOjaRjXR2"
      },
      "outputs": [],
      "source": [
        "def get_token_adj(score, benchmark, userid='all'):\n",
        "    \n",
        "    if userid != 'all':\n",
        "        df = odf[(odf['UserId'] == userid) & (odf['Score'] == score)]['Text']\n",
        "    else:\n",
        "        df = odf[odf['Score'] == score]['Text']\n",
        "        \n",
        "    count = len(df)\n",
        "    total_text = ' '.join(df)\n",
        "    total_text = total_text.lower()\n",
        "    stop = set(stopwords.words('english'))\n",
        "    total_text = nltk.word_tokenize(total_text)\n",
        "    total_text = [word for word in total_text if word not in stop and len(word) >= 3]\n",
        "    lemmatizer = WordNetLemmatizer()\n",
        "    total_text = [lemmatizer.lemmatize(w,'a') for w in total_text]\n",
        "    # get adjective only\n",
        "    total_text = [word for word, form in nltk.pos_tag(total_text) if form == 'JJ']\n",
        "    \n",
        "    text = nltk.Text(total_text)\n",
        "    fdist = nltk.FreqDist(text)\n",
        "    \n",
        "    # return only phrase occurs more than benchmark of his reviews\n",
        "    return sorted([(w,fdist[w],str(round(fdist[w]/count*100,2))+'%') for w in set(text) if fdist[w] >= count*benchmark], key=lambda x: -x[1])"
      ]
    },
    {
      "cell_type": "markdown",
      "metadata": {
        "_cell_guid": "0610e903-5df8-4b7c-b55c-9545e6067615",
        "_uuid": "66274784e2b763b90e3bc8688fb0770ba1dc14c3",
        "id": "HynuYvBQjXR2"
      },
      "source": [
        "Let's look at user A. Bennett again:"
      ]
    },
    {
      "cell_type": "code",
      "execution_count": 24,
      "metadata": {
        "_cell_guid": "feabf506-2256-4f25-980f-816023fb1e98",
        "_uuid": "43b9c581046a482e31152d40ef7d8614fe286442",
        "execution": {
          "iopub.execute_input": "2021-05-21T02:23:51.546004Z",
          "iopub.status.busy": "2021-05-21T02:23:51.545669Z",
          "iopub.status.idle": "2021-05-21T02:23:53.215757Z",
          "shell.execute_reply": "2021-05-21T02:23:53.214747Z",
          "shell.execute_reply.started": "2021-05-21T02:23:51.545945Z"
        },
        "colab": {
          "base_uri": "https://localhost:8080/"
        },
        "id": "NoeG7MfMjXR3",
        "outputId": "e43c9b8a-ad71-426b-972c-837d58da782b"
      },
      "outputs": [
        {
          "output_type": "stream",
          "name": "stdout",
          "text": [
            "score 1 reviews most popular adjectives word:\n",
            "      Phrase  Count Occur %\n",
            "0        dry   13.0   50.0%\n",
            "1     cheese   12.0  46.15%\n",
            "2        bad   10.0  38.46%\n",
            "3     little   10.0  38.46%\n",
            "4       hard    8.0  30.77%\n",
            "5  delicious    8.0  30.77%\n",
            "6      tasty    8.0  30.77%\n",
            "7  expensive    8.0  30.77%\n",
            "8      bread    7.0  26.92%\n",
            "9       poor    7.0  26.92%\n",
            "score 2 reviews most popular adjectives word:\n",
            "       Phrase  Count Occur %\n",
            "0       whole   10.0  58.82%\n",
            "1      cheese    8.0  47.06%\n",
            "2       awful    6.0  35.29%\n",
            "3       wrong    6.0  35.29%\n",
            "4   delicious    6.0  35.29%\n",
            "5       .give    5.0  29.41%\n",
            "6  particular    5.0  29.41%\n",
            "7        good    5.0  29.41%\n",
            "score 3 reviews most popular adjectives word:\n",
            "         Phrase  Count Occur %\n",
            "0         whole    9.0  64.29%\n",
            "1          high    5.0  35.71%\n",
            "2  disappointed    4.0  28.57%\n",
            "3         great    4.0  28.57%\n",
            "4          good    4.0  28.57%\n",
            "5         first    4.0  28.57%\n",
            "score 4 reviews most popular adjectives word:\n",
            "      Phrase  Count Occur %\n",
            "0      great    9.0  56.25%\n",
            "1  delicious    8.0   50.0%\n",
            "2  recommend    5.0  31.25%\n",
            "3     little    5.0  31.25%\n",
            "4    regular    4.0   25.0%\n",
            "5   multiple    4.0   25.0%\n",
            "6       much    4.0   25.0%\n",
            "7       sure    4.0   25.0%\n",
            "8       good    4.0   25.0%\n",
            "9       high    4.0   25.0%\n",
            "score 5 reviews most popular adjectives word:\n",
            "      Phrase  Count Occur %\n",
            "0  delicious   31.0  73.81%\n",
            "1      great   18.0  42.86%\n",
            "2       high   13.0  30.95%\n",
            "3      first   13.0  30.95%\n",
            "4      fresh   12.0  28.57%\n"
          ]
        }
      ],
      "source": [
        "# score 1-5 reviews with this user\n",
        "index = ['Phrase', 'Count', 'Occur %']\n",
        "\n",
        "for j in range(1,6):\n",
        "    test = pd.DataFrame()\n",
        "    d = get_token_adj(j, 0.25, 'A2M9D9BDHONV3Y')\n",
        "    print('score {} reviews most popular adjectives word:'.format(j))\n",
        "    for i in d:\n",
        "        test = test.append(pd.Series(i, index = index), ignore_index = True)\n",
        "    test = test.sort_values('Count', ascending=False)\n",
        "    print(test)"
      ]
    },
    {
      "cell_type": "markdown",
      "metadata": {
        "_cell_guid": "d9fba032-011a-4b82-a23c-bdd8c32497da",
        "_uuid": "a46a240772c569cb4c78eb80bb37f9b65f13faf8",
        "id": "7KLlPxrijXR3"
      },
      "source": [
        "Obviously much more useful information here, e.g. A. Bennett hates food that are too dry and expensive\n",
        "<br>\n",
        "Let's also look at big picture:"
      ]
    },
    {
      "cell_type": "code",
      "execution_count": 25,
      "metadata": {
        "_cell_guid": "ccbedb9b-4f0f-4735-bc27-d0d95374b6d4",
        "_uuid": "83735d321f39d96314d1983f3ca754ecb7ba3d5e",
        "execution": {
          "iopub.execute_input": "2021-05-21T02:23:53.217712Z",
          "iopub.status.busy": "2021-05-21T02:23:53.217291Z",
          "iopub.status.idle": "2021-05-21T03:09:27.956952Z",
          "shell.execute_reply": "2021-05-21T03:09:27.955956Z",
          "shell.execute_reply.started": "2021-05-21T02:23:53.217630Z"
        },
        "colab": {
          "base_uri": "https://localhost:8080/"
        },
        "id": "WoT8YtW2jXR4",
        "outputId": "5dcf8b8e-7c96-458f-a912-fcf32c43e260"
      },
      "outputs": [
        {
          "output_type": "stream",
          "name": "stdout",
          "text": [
            "score 1 reviews most popular adjectives word:\n",
            "          Phrase    Count Occur %\n",
            "0           good  16185.0  30.97%\n",
            "1            bad  10777.0  20.62%\n",
            "2          great   4977.0   9.52%\n",
            "3           much   4844.0   9.27%\n",
            "4         little   4786.0   9.16%\n",
            "5            old   4774.0   9.13%\n",
            "6          first   4198.0   8.03%\n",
            "7            new   3956.0   7.57%\n",
            "8      different   3789.0   7.25%\n",
            "9           many   3717.0   7.11%\n",
            "10         small   3537.0   6.77%\n",
            "11          real   3296.0   6.31%\n",
            "12  disappointed   3000.0   5.74%\n",
            "13          sure   2884.0   5.52%\n",
            "14          free   2831.0   5.42%\n",
            "15          diet   2823.0    5.4%\n",
            "16          high   2761.0   5.28%\n",
            "17          last   2658.0   5.09%\n",
            "score 2 reviews most popular adjectives word:\n",
            "          Phrase    Count Occur %\n",
            "0           good  13519.0  45.41%\n",
            "1           much   4251.0  14.28%\n",
            "2            bad   4169.0   14.0%\n",
            "3          great   3909.0  13.13%\n",
            "4         little   3691.0   12.4%\n",
            "5          small   2847.0   9.56%\n",
            "6          first   2323.0    7.8%\n",
            "7         strong   2292.0    7.7%\n",
            "8      different   2239.0   7.52%\n",
            "9          sweet   2163.0   7.27%\n",
            "10          many   2067.0   6.94%\n",
            "11           old   2050.0   6.89%\n",
            "12           big   2006.0   6.74%\n",
            "13          hard   1958.0   6.58%\n",
            "14           hot   1923.0   6.46%\n",
            "15  disappointed   1906.0    6.4%\n",
            "16          sure   1902.0   6.39%\n",
            "17          high   1893.0   6.36%\n",
            "18         green   1766.0   5.93%\n",
            "19         whole   1703.0   5.72%\n",
            "20       healthy   1643.0   5.52%\n",
            "21           new   1608.0    5.4%\n",
            "22          weak   1595.0   5.36%\n",
            "23       organic   1576.0   5.29%\n",
            "24          real   1519.0    5.1%\n",
            "25       regular   1495.0   5.02%\n",
            "score 3 reviews most popular adjectives word:\n",
            "       Phrase    Count Occur %\n",
            "0        good  25082.0  58.82%\n",
            "1       great   7648.0  17.94%\n",
            "2      little   7367.0  17.28%\n",
            "3        much   6927.0  16.25%\n",
            "4         bad   5473.0  12.84%\n",
            "5      strong   4744.0  11.13%\n",
            "6       small   4679.0  10.97%\n",
            "7       sweet   4009.0    9.4%\n",
            "8       first   3464.0   8.12%\n",
            "9   different   3432.0   8.05%\n",
            "10       high   3288.0   7.71%\n",
            "11       nice   3108.0   7.29%\n",
            "12       sure   3102.0   7.27%\n",
            "13        big   3034.0   7.12%\n",
            "14        hot   2918.0   6.84%\n",
            "15       many   2904.0   6.81%\n",
            "16      green   2761.0   6.48%\n",
            "17    healthy   2664.0   6.25%\n",
            "18    organic   2608.0   6.12%\n",
            "19       hard   2596.0   6.09%\n",
            "20    regular   2567.0   6.02%\n",
            "21        old   2518.0   5.91%\n",
            "22      large   2516.0    5.9%\n",
            "23      whole   2245.0   5.27%\n",
            "24    natural   2237.0   5.25%\n",
            "25        dry   2162.0   5.07%\n",
            "score 4 reviews most popular adjectives word:\n",
            "       Phrase    Count Occur %\n",
            "0        good  52527.0  65.13%\n",
            "1       great  22466.0  27.85%\n",
            "2      little  16209.0   20.1%\n",
            "3        much  10517.0  13.04%\n",
            "4        nice   9279.0   11.5%\n",
            "5      strong   8529.0  10.57%\n",
            "6       small   8370.0  10.38%\n",
            "7       sweet   8159.0  10.12%\n",
            "8     healthy   6489.0   8.05%\n",
            "9        easy   6151.0   7.63%\n",
            "10        hot   5969.0    7.4%\n",
            "11       high   5961.0   7.39%\n",
            "12       many   5734.0   7.11%\n",
            "13        bad   5675.0   7.04%\n",
            "14        big   5673.0   7.03%\n",
            "15  different   5479.0   6.79%\n",
            "16      first   5424.0   6.72%\n",
            "17    organic   5297.0   6.57%\n",
            "18       sure   5041.0   6.25%\n",
            "19       free   5032.0   6.24%\n",
            "20      green   4835.0   5.99%\n",
            "21    regular   4761.0    5.9%\n",
            "22      large   4653.0   5.77%\n",
            "23       hard   4572.0   5.67%\n",
            "24        old   4497.0   5.58%\n",
            "25      tasty   4471.0   5.54%\n",
            "26      fresh   4462.0   5.53%\n",
            "27        low   4402.0   5.46%\n",
            "28      whole   4324.0   5.36%\n",
            "29  delicious   4322.0   5.36%\n",
            "30    natural   4258.0   5.28%\n",
            "score 5 reviews most popular adjectives word:\n",
            "       Phrase     Count Occur %\n",
            "0        good  151087.0  41.61%\n",
            "1       great  127588.0  35.14%\n",
            "2      little   45682.0  12.58%\n",
            "3        much   32748.0   9.02%\n",
            "4   delicious   32677.0    9.0%\n",
            "5     healthy   30145.0    8.3%\n",
            "6        many   27700.0   7.63%\n",
            "7        free   26152.0    7.2%\n",
            "8        easy   25824.0   7.11%\n",
            "9    favorite   25240.0   6.95%\n",
            "10      small   24891.0   6.85%\n",
            "11        hot   24737.0   6.81%\n",
            "12      sweet   23757.0   6.54%\n",
            "13       nice   23219.0   6.39%\n",
            "14        old   21379.0   5.89%\n",
            "15      happy   21155.0   5.83%\n",
            "16      fresh   20400.0   5.62%\n",
            "17     strong   20259.0   5.58%\n",
            "18    organic   19746.0   5.44%\n",
            "19       high   19712.0   5.43%\n",
            "20  different   19340.0   5.33%\n",
            "21      first   18859.0   5.19%\n",
            "22      local   18733.0   5.16%\n",
            "23    perfect   18620.0   5.13%\n",
            "24        big   18310.0   5.04%\n"
          ]
        }
      ],
      "source": [
        "# score 1-5 reviews with all users\n",
        "index = ['Phrase', 'Count', 'Occur %']\n",
        "\n",
        "for j in range(1,6):\n",
        "    test = pd.DataFrame()\n",
        "    d = get_token_adj(j, 0.05)\n",
        "    print('score {} reviews most popular adjectives word:'.format(j))\n",
        "    for i in d:\n",
        "        test = test.append(pd.Series(i, index = index), ignore_index = True)\n",
        "    test = test.sort_values('Count', ascending=False)\n",
        "    print(test)"
      ]
    },
    {
      "cell_type": "code",
      "execution_count": 25,
      "metadata": {
        "id": "Gh2z9JodjXR4"
      },
      "outputs": [],
      "source": [
        ""
      ]
    }
  ],
  "metadata": {
    "kernelspec": {
      "display_name": "Python 3 (ipykernel)",
      "language": "python",
      "name": "python3"
    },
    "language_info": {
      "codemirror_mode": {
        "name": "ipython",
        "version": 3
      },
      "file_extension": ".py",
      "mimetype": "text/x-python",
      "name": "python",
      "nbconvert_exporter": "python",
      "pygments_lexer": "ipython3",
      "version": "3.8.12"
    },
    "colab": {
      "name": "amazon-fine-food-review-sentiment-analysis.ipynb",
      "provenance": [],
      "collapsed_sections": []
    }
  },
  "nbformat": 4,
  "nbformat_minor": 0
}